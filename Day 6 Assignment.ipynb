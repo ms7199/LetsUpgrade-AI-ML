{
 "cells": [
  {
   "cell_type": "markdown",
   "metadata": {},
   "source": [
    "# Day 6 Assignment"
   ]
  },
  {
   "cell_type": "markdown",
   "metadata": {},
   "source": [
    "Q.1) Assuming that we have some email address in the format \"username@companyname.com\", please write program to print the company name of the given email address.<br>\n",
    "ex:<br>\n",
    "- **input:** john@google.com<br>\n",
    "- **output:** google\n"
   ]
  },
  {
   "cell_type": "code",
   "execution_count": 1,
   "metadata": {},
   "outputs": [],
   "source": [
    "email= \"mayank@mstech.com\" #email in given format"
   ]
  },
  {
   "cell_type": "code",
   "execution_count": 92,
   "metadata": {},
   "outputs": [
    {
     "name": "stdout",
     "output_type": "stream",
     "text": [
      "comapny is mstech\n"
     ]
    }
   ],
   "source": [
    "# method 1 for extract the name  from the email in given format\n",
    "name=(email.split(\"@\")[1]).split(\".\")[0]\n",
    "print(\"comapny is {}\".format(name))"
   ]
  },
  {
   "cell_type": "code",
   "execution_count": 94,
   "metadata": {
    "scrolled": true
   },
   "outputs": [
    {
     "data": {
      "text/plain": [
       "'comapny is mstech'"
      ]
     },
     "execution_count": 94,
     "metadata": {},
     "output_type": "execute_result"
    }
   ],
   "source": [
    "# method 2 for extract the name  from the email in given format\n",
    "def name(email):\n",
    "    index_1=email.index(\"@\")\n",
    "    index_2=email.index(\".\")\n",
    "    return \"comapny is {}\".format(email[index_1+1:index_2])\n",
    "name(email)"
   ]
  },
  {
   "cell_type": "code",
   "execution_count": null,
   "metadata": {},
   "outputs": [],
   "source": []
  },
  {
   "cell_type": "markdown",
   "metadata": {},
   "source": [
    "Q.2) Write a program that accepts a comma-separated sequence of words as inpuut and prints the word in a comma-separated sequence after sorting then alphabatically.<br>\n",
    "ex:<br>\n",
    "- **input:** without,hello,bag,world<br>\n",
    "- **output:** bag,hello,without,world"
   ]
  },
  {
   "cell_type": "code",
   "execution_count": 97,
   "metadata": {},
   "outputs": [],
   "source": [
    "comma_string = \"mayank,jay,dvarkesh,parth,vikrant\""
   ]
  },
  {
   "cell_type": "code",
   "execution_count": 101,
   "metadata": {},
   "outputs": [
    {
     "data": {
      "text/plain": [
       "'dvarkesh,jay,mayank,parth,vikrant'"
      ]
     },
     "execution_count": 101,
     "metadata": {},
     "output_type": "execute_result"
    }
   ],
   "source": [
    "# method 1 for Q.2\n",
    "def sort_str(comma_string):\n",
    "    str_list=comma_string.split(\",\")\n",
    "    return \",\".join(sorted(str_list))\n",
    "sort_str(comma_string)  "
   ]
  },
  {
   "cell_type": "code",
   "execution_count": 103,
   "metadata": {},
   "outputs": [
    {
     "name": "stdout",
     "output_type": "stream",
     "text": [
      "dvarkesh,jay,mayank,parth,vikrant\n"
     ]
    }
   ],
   "source": [
    "# method 2 for Q.2\n",
    "l = \",\".join(sorted(comma_string.split(\",\")))\n",
    "print(l)"
   ]
  },
  {
   "cell_type": "code",
   "execution_count": null,
   "metadata": {},
   "outputs": [],
   "source": []
  },
  {
   "cell_type": "markdown",
   "metadata": {},
   "source": [
    "Q.3) Create your own **jupyter notebook for sets**. "
   ]
  },
  {
   "cell_type": "markdown",
   "metadata": {},
   "source": [
    "- set not allowed the duplicaiton<br>\n",
    "- set is unordered\n"
   ]
  },
  {
   "cell_type": "code",
   "execution_count": 33,
   "metadata": {},
   "outputs": [
    {
     "name": "stdout",
     "output_type": "stream",
     "text": [
      "s1: {1, 3}\n"
     ]
    }
   ],
   "source": [
    "s1 = {1,3} # create a set with elements\n",
    "print(\"s1:\",s1)"
   ]
  },
  {
   "cell_type": "code",
   "execution_count": 34,
   "metadata": {},
   "outputs": [
    {
     "name": "stdout",
     "output_type": "stream",
     "text": [
      "s1: {1, 2, 3}\n"
     ]
    }
   ],
   "source": [
    "s1.add(2) # add 2 in set s1\n",
    "print(\"s1:\",s1)"
   ]
  },
  {
   "cell_type": "code",
   "execution_count": 35,
   "metadata": {},
   "outputs": [
    {
     "name": "stdout",
     "output_type": "stream",
     "text": [
      "s1: {1, 2, 3, 5, 6}\n"
     ]
    }
   ],
   "source": [
    "s1.update({5,6}) # update set with {5, 6}\n",
    "print(\"s1:\",s1)"
   ]
  },
  {
   "cell_type": "code",
   "execution_count": 36,
   "metadata": {},
   "outputs": [
    {
     "name": "stdout",
     "output_type": "stream",
     "text": [
      "length of s1:{1, 2, 3, 5, 6} set is 5.\n"
     ]
    }
   ],
   "source": [
    "print(\"length of s1:{} set is {}.\".format(s1,len(s1)))"
   ]
  },
  {
   "cell_type": "code",
   "execution_count": 37,
   "metadata": {},
   "outputs": [
    {
     "name": "stdout",
     "output_type": "stream",
     "text": [
      "s1: {2, 3, 5, 6}\n"
     ]
    }
   ],
   "source": [
    "s1.remove(1) # remove 1 from the set s1\n",
    "print(\"s1:\",s1)"
   ]
  },
  {
   "cell_type": "code",
   "execution_count": 38,
   "metadata": {},
   "outputs": [
    {
     "data": {
      "text/plain": [
       "2"
      ]
     },
     "execution_count": 38,
     "metadata": {},
     "output_type": "execute_result"
    }
   ],
   "source": [
    "s1.pop() # pop ant one element from the set s1 ramndomly"
   ]
  },
  {
   "cell_type": "code",
   "execution_count": 2,
   "metadata": {},
   "outputs": [],
   "source": [
    "s2= {3,6,2,9,1}"
   ]
  },
  {
   "cell_type": "code",
   "execution_count": 39,
   "metadata": {},
   "outputs": [
    {
     "data": {
      "text/plain": [
       "False"
      ]
     },
     "execution_count": 39,
     "metadata": {},
     "output_type": "execute_result"
    }
   ],
   "source": [
    "s1.issubset(s2) # check whether s1 is subset of s2 or not"
   ]
  },
  {
   "cell_type": "code",
   "execution_count": 4,
   "metadata": {},
   "outputs": [],
   "source": [
    "s1.remove(3)"
   ]
  },
  {
   "cell_type": "code",
   "execution_count": 6,
   "metadata": {},
   "outputs": [
    {
     "data": {
      "text/plain": [
       "{1, 2}"
      ]
     },
     "execution_count": 6,
     "metadata": {},
     "output_type": "execute_result"
    }
   ],
   "source": [
    "s1.add(2)\n",
    "s1"
   ]
  },
  {
   "cell_type": "code",
   "execution_count": 11,
   "metadata": {},
   "outputs": [
    {
     "name": "stdout",
     "output_type": "stream",
     "text": [
      "{3}\n"
     ]
    }
   ],
   "source": [
    "s1.pop()\n",
    "print(s1)"
   ]
  },
  {
   "cell_type": "code",
   "execution_count": 13,
   "metadata": {},
   "outputs": [
    {
     "name": "stdout",
     "output_type": "stream",
     "text": [
      "{3, 5}\n"
     ]
    }
   ],
   "source": [
    "s1.add(5)\n",
    "print(s1)"
   ]
  },
  {
   "cell_type": "code",
   "execution_count": 14,
   "metadata": {},
   "outputs": [],
   "source": [
    "s1.remove(5)"
   ]
  },
  {
   "cell_type": "code",
   "execution_count": 15,
   "metadata": {},
   "outputs": [
    {
     "data": {
      "text/plain": [
       "{3}"
      ]
     },
     "execution_count": 15,
     "metadata": {},
     "output_type": "execute_result"
    }
   ],
   "source": [
    "s1"
   ]
  },
  {
   "cell_type": "markdown",
   "metadata": {},
   "source": [
    "Q.4)Given a numbers ranging from 1 to n, your task is to find the missing number.there are no duplicatees."
   ]
  },
  {
   "cell_type": "code",
   "execution_count": 86,
   "metadata": {},
   "outputs": [
    {
     "name": "stdout",
     "output_type": "stream",
     "text": [
      "enter the numbers:1 2 4\n"
     ]
    }
   ],
   "source": [
    "ip_ls= input(\"enter the numbers:\").split()\n",
    "ip_ls= [int(i) for i in ip_ls]"
   ]
  },
  {
   "cell_type": "code",
   "execution_count": 104,
   "metadata": {},
   "outputs": [
    {
     "name": "stdout",
     "output_type": "stream",
     "text": [
      "missing value:3\n"
     ]
    }
   ],
   "source": [
    "# method 1 for Q.4\n",
    "for i,j in zip(range(ip_ls[0],ip_ls[-1]+1),ip_ls):\n",
    "    if i!=j:\n",
    "        print(\"missing value:{}\".format(i))"
   ]
  },
  {
   "cell_type": "code",
   "execution_count": 110,
   "metadata": {},
   "outputs": [
    {
     "name": "stdout",
     "output_type": "stream",
     "text": [
      "missing value:3\n"
     ]
    }
   ],
   "source": [
    "# method 2 for Q.4\n",
    "print(\"missing value:{}\".format(list(set(range(ip_ls[0], ip_ls[-1])) - set(ip_ls))[0]))"
   ]
  },
  {
   "cell_type": "markdown",
   "metadata": {},
   "source": [
    "Q.5) with a given list \"L\" after removing all duplicate values with original order reserved.<br>\n",
    "ex:<br>\n",
    "**input:** 3,5,9,1,3,9\n",
    "**output:** 3,5,9,1"
   ]
  },
  {
   "cell_type": "code",
   "execution_count": 34,
   "metadata": {},
   "outputs": [],
   "source": [
    "l=[1,7,3,9,3,7,44,5,1,7,3,9]"
   ]
  },
  {
   "cell_type": "code",
   "execution_count": 37,
   "metadata": {},
   "outputs": [
    {
     "name": "stdout",
     "output_type": "stream",
     "text": [
      "L after removing all duplicate values with original order reserved:\n",
      "[1, 3, 5, 7, 9, 44]\n"
     ]
    }
   ],
   "source": [
    "print(\"L after removing all duplicate values with original order reserved:\\n{}\".format(list(set(l))))"
   ]
  },
  {
   "cell_type": "code",
   "execution_count": null,
   "metadata": {},
   "outputs": [],
   "source": []
  }
 ],
 "metadata": {
  "kernelspec": {
   "display_name": "Python 3",
   "language": "python",
   "name": "python3"
  },
  "language_info": {
   "codemirror_mode": {
    "name": "ipython",
    "version": 3
   },
   "file_extension": ".py",
   "mimetype": "text/x-python",
   "name": "python",
   "nbconvert_exporter": "python",
   "pygments_lexer": "ipython3",
   "version": "3.6.5"
  }
 },
 "nbformat": 4,
 "nbformat_minor": 2
}
