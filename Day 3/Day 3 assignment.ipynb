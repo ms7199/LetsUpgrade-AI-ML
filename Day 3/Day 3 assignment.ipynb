{
 "cells": [
  {
   "cell_type": "markdown",
   "metadata": {},
   "source": [
    "# Day 3 assignment"
   ]
  },
  {
   "cell_type": "markdown",
   "metadata": {},
   "source": [
    "Q.1)Write a program to subtract two complex numbers."
   ]
  },
  {
   "cell_type": "code",
   "execution_count": 1,
   "metadata": {},
   "outputs": [],
   "source": [
    "num1 = 2+4j\n",
    "num2 = 4 +6j"
   ]
  },
  {
   "cell_type": "code",
   "execution_count": 3,
   "metadata": {},
   "outputs": [
    {
     "name": "stdout",
     "output_type": "stream",
     "text": [
      "num1=(2+4j) \n",
      "num2=(4+6j)\n"
     ]
    }
   ],
   "source": [
    "print(\"num1={} \\nnum2={}\".format(num1, num2))"
   ]
  },
  {
   "cell_type": "code",
   "execution_count": 12,
   "metadata": {},
   "outputs": [
    {
     "name": "stdout",
     "output_type": "stream",
     "text": [
      "Sum of two complex number is (-2-2j).\n"
     ]
    }
   ],
   "source": [
    "print(\"Sum of two complex number is {}.\".format(num1-num2))"
   ]
  },
  {
   "cell_type": "markdown",
   "metadata": {},
   "source": [
    "Q.2)Write a program to find fourth root of number\n"
   ]
  },
  {
   "cell_type": "code",
   "execution_count": 15,
   "metadata": {},
   "outputs": [],
   "source": [
    "num = 16"
   ]
  },
  {
   "cell_type": "code",
   "execution_count": 16,
   "metadata": {},
   "outputs": [
    {
     "name": "stdout",
     "output_type": "stream",
     "text": [
      "fourth root of number is 2.0.\n"
     ]
    }
   ],
   "source": [
    "print(\"fourth root of number is {}.\".format(num**0.25))"
   ]
  },
  {
   "cell_type": "markdown",
   "metadata": {},
   "source": [
    "Q.3) Write a program to swap two numbers in python with the help of temporary variable"
   ]
  },
  {
   "cell_type": "code",
   "execution_count": 29,
   "metadata": {},
   "outputs": [
    {
     "name": "stdout",
     "output_type": "stream",
     "text": [
      "before swapping the numbers num1 is 10 and num2 is 20.\n"
     ]
    }
   ],
   "source": [
    "num1 = 10\n",
    "num2 = 20\n",
    "print(\"before swapping the numbers num1 is {} and num2 is {}.\".format(num1, num2))"
   ]
  },
  {
   "cell_type": "code",
   "execution_count": 30,
   "metadata": {},
   "outputs": [],
   "source": [
    "temp = num2\n",
    "num2 = num1\n",
    "num1 = temp"
   ]
  },
  {
   "cell_type": "code",
   "execution_count": 31,
   "metadata": {},
   "outputs": [
    {
     "name": "stdout",
     "output_type": "stream",
     "text": [
      "after swapping the numbers num1 is 20 and num2 is 10.\n"
     ]
    }
   ],
   "source": [
    "print(\"after swapping the numbers num1 is {} and num2 is {}.\".format(num1, num2))"
   ]
  },
  {
   "cell_type": "markdown",
   "metadata": {},
   "source": [
    "Q.4) Write a program to swap two numbers in python without using temporary variable."
   ]
  },
  {
   "cell_type": "code",
   "execution_count": 2,
   "metadata": {},
   "outputs": [
    {
     "name": "stdout",
     "output_type": "stream",
     "text": [
      "before swapping the numbers num1 is 10 and num2 is 20.\n"
     ]
    }
   ],
   "source": [
    "num1 = 10\n",
    "num2 = 20\n",
    "print(\"before swapping the numbers num1 is {} and num2 is {}.\".format(num1, num2))"
   ]
  },
  {
   "cell_type": "code",
   "execution_count": 3,
   "metadata": {},
   "outputs": [
    {
     "name": "stdout",
     "output_type": "stream",
     "text": [
      "before swapping the numbers num1 is 10 and num2 is 20.\n",
      "after swapping the numbers num1 is 20 and num2 is 10.\n"
     ]
    }
   ],
   "source": [
    "# first method for swapping two numbers without using temp. variable.\n",
    "print(\"before swapping the numbers num1 is {} and num2 is {}.\".format(num1, num2))\n",
    "num1 = num1+num2\n",
    "num2 = num1-num2\n",
    "num1 = num1-num2\n",
    "print(\"after swapping the numbers num1 is {} and num2 is {}.\".format(num1, num2))"
   ]
  },
  {
   "cell_type": "code",
   "execution_count": 4,
   "metadata": {},
   "outputs": [
    {
     "name": "stdout",
     "output_type": "stream",
     "text": [
      "before swapping the numbers num1 is 20 and num2 is 10.\n",
      "after swapping the numbers num1 is 10.0 and num2 is 20.0.\n"
     ]
    }
   ],
   "source": [
    "# second method for swapping two numbers without using temp. variable.\n",
    "print(\"before swapping the numbers num1 is {} and num2 is {}.\".format(num1, num2))\n",
    "num1 = num1*num2\n",
    "num2 = num1/num2\n",
    "num1 = num1/num2\n",
    "print(\"after swapping the numbers num1 is {} and num2 is {}.\".format(num1, num2))"
   ]
  },
  {
   "cell_type": "code",
   "execution_count": 5,
   "metadata": {},
   "outputs": [
    {
     "name": "stdout",
     "output_type": "stream",
     "text": [
      "before swapping the numbers num1 is 10.0 and num2 is 20.0.\n",
      "after swapping the numbers num1 is 20.0 and num2 is 10.0.\n"
     ]
    }
   ],
   "source": [
    "# third method for swapping two numbers without using temp. variable.\n",
    "print(\"before swapping the numbers num1 is {} and num2 is {}.\".format(num1, num2))\n",
    "num1, num2 = num2, num1\n",
    "print(\"after swapping the numbers num1 is {} and num2 is {}.\".format(num1, num2))"
   ]
  },
  {
   "cell_type": "markdown",
   "metadata": {},
   "source": [
    "Q.5) Write a program to convert fahrenhit to kelvin and celsius both."
   ]
  },
  {
   "cell_type": "code",
   "execution_count": 6,
   "metadata": {},
   "outputs": [],
   "source": [
    "fah = 20"
   ]
  },
  {
   "cell_type": "code",
   "execution_count": 9,
   "metadata": {},
   "outputs": [
    {
     "name": "stdout",
     "output_type": "stream",
     "text": [
      "20 fahrenhit=-6.666666666666667 celcius\n"
     ]
    }
   ],
   "source": [
    "cel = (fah - 32)*(5/9)\n",
    "print(\"{} fahrenhit={} celcius\".format(fah,cel))"
   ]
  },
  {
   "cell_type": "code",
   "execution_count": 10,
   "metadata": {},
   "outputs": [
    {
     "name": "stdout",
     "output_type": "stream",
     "text": [
      "20 farhenhit=266.8333333333333 kelvin\n"
     ]
    }
   ],
   "source": [
    "kel= cel + 273.5\n",
    "print(\"{} farhenhit={} kelvin\".format(fah, kel))"
   ]
  },
  {
   "cell_type": "markdown",
   "metadata": {},
   "source": [
    "Q.6) Write a program to demostrate all available data types in Python"
   ]
  },
  {
   "cell_type": "code",
   "execution_count": 1,
   "metadata": {},
   "outputs": [
    {
     "name": "stdout",
     "output_type": "stream",
     "text": [
      "type of a is <class 'int'>\n",
      "type of b is <class 'float'>\n",
      "type of c is <class 'str'>\n",
      "type of compl is <class 'complex'>\n"
     ]
    }
   ],
   "source": [
    "a = 5 # interger\n",
    "b = 5.5 #float\n",
    "c = \"Mayank\" #String\n",
    "compl = 4+3j\n",
    "print(\"type of a is {}\".format(type(a)))\n",
    "print(\"type of b is {}\".format(type(b)))\n",
    "print(\"type of c is {}\".format(type(c)))\n",
    "print(\"type of compl is {}\".format(type(compl)))"
   ]
  },
  {
   "cell_type": "code",
   "execution_count": 15,
   "metadata": {},
   "outputs": [
    {
     "name": "stdout",
     "output_type": "stream",
     "text": [
      "type of l is <class 'list'>\n",
      "type of t is <class 'tuple'>\n",
      "type of d is <class 'dict'>\n",
      "type of s is <class 'set'>\n"
     ]
    }
   ],
   "source": [
    "l = [2, 3 , \"mayank\", \"9\"] # list\n",
    "t = (2, 3, \"Gupta\", 10, 10.5) # tuple\n",
    "d = {'roll_no':9, \"age\":21, \"name\":\"mayank\"} #dictionary\n",
    "s = {2, 3, 6, 2, 8, \"mayank\"} # Set\n",
    "print(\"type of l is {}\".format(type(l)))\n",
    "print(\"type of t is {}\".format(type(t)))\n",
    "print(\"type of d is {}\".format(type(d)))\n",
    "print(\"type of s is {}\".format(type(s)))"
   ]
  },
  {
   "cell_type": "markdown",
   "metadata": {},
   "source": [
    "Q.7) Create a Markdown cell in jupyter and list the steps discussed in the session by Dr. Darshan Ingle Sir to create Github profile and upload github Assignment link"
   ]
  },
  {
   "cell_type": "markdown",
   "metadata": {},
   "source": [
    "- create a repo name as \"LetsUpgrade AI-ML\"\n",
    "- upload the assignment day wise(like if you submit day 3 assignment then make folder day 3 and put in the folder you assignment notebook file)\n"
   ]
  },
  {
   "cell_type": "code",
   "execution_count": null,
   "metadata": {},
   "outputs": [],
   "source": []
  }
 ],
 "metadata": {
  "kernelspec": {
   "display_name": "Python 3",
   "language": "python",
   "name": "python3"
  },
  "language_info": {
   "codemirror_mode": {
    "name": "ipython",
    "version": 3
   },
   "file_extension": ".py",
   "mimetype": "text/x-python",
   "name": "python",
   "nbconvert_exporter": "python",
   "pygments_lexer": "ipython3",
   "version": "3.6.5"
  }
 },
 "nbformat": 4,
 "nbformat_minor": 2
}
